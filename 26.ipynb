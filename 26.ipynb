{
 "cells": [
  {
   "cell_type": "markdown",
   "source": [
    "### Варіант № 3\n",
    "### Завдання № 758(ж)\n",
    "Дано дійсне число $x$. Вирахувати з точністю $10^{-6}$:\n",
    "$\\displaystyle\\sum_{k=1}^\\infty \\frac{(-1)^kx^k}{k}$"
   ],
   "metadata": {
    "collapsed": false,
    "pycharm": {
     "name": "#%% md\n"
    }
   }
  },
  {
   "cell_type": "code",
   "execution_count": 23,
   "outputs": [
    {
     "name": "stdout",
     "output_type": "stream",
     "text": [
      "Result is too large\n"
     ]
    }
   ],
   "source": [
    "from itertools import takewhile, count\n",
    "\n",
    "try:\n",
    "    x = float(input(\"Enter the number x:\"))\n",
    "    eps = 0.000001\n",
    "    print(sum(((-1) ** k * x ** k) / k for k in takewhile(lambda y:\n",
    "                    abs(((-1) ** y * x ** y) / y) >= eps, count(1, 1))))\n",
    "except ValueError:\n",
    "    print(\"Input error!\")\n",
    "except OverflowError:\n",
    "    print(\"Result is too large\")"
   ],
   "metadata": {
    "collapsed": false,
    "pycharm": {
     "name": "#%%\n"
    }
   }
  },
  {
   "cell_type": "markdown",
   "source": [
    "# Examples\n",
    "\n",
    "### Example 1\n",
    "x = 0.5\n",
    "-0.4054657568451514\n",
    "### Example 2\n",
    "x = -0.9\n",
    "2.3025763861127633\n",
    "### Example 3\n",
    "x = 2\n",
    "Result is too large"
   ],
   "metadata": {
    "collapsed": false,
    "pycharm": {
     "name": "#%% md\n"
    }
   }
  }
 ],
 "metadata": {
  "kernelspec": {
   "display_name": "Python 3",
   "language": "python",
   "name": "python3"
  },
  "language_info": {
   "codemirror_mode": {
    "name": "ipython",
    "version": 2
   },
   "file_extension": ".py",
   "mimetype": "text/x-python",
   "name": "python",
   "nbconvert_exporter": "python",
   "pygments_lexer": "ipython2",
   "version": "2.7.6"
  }
 },
 "nbformat": 4,
 "nbformat_minor": 0
}