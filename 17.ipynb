{
 "cells": [
  {
   "cell_type": "markdown",
   "source": [
    "### Варіант № 3\n",
    "### Завдання № 332\n",
    "Відомо, що будь-яке натуральне число можна представити у\n",
    "вигляді суми не більше ніж чотирьох квадратів натуральних\n",
    "чисел або, що те ж саме, у вигляді суми чотирьох квадратів\n",
    "невід$'$ємних цілих чисел (теорема Лагранжа).\n",
    "Дано натуральне $n$; вказати такі невід$'$ємні цілі числа\n",
    "$x, y, z, t,$ що $n=x^2+y^2+z^2+t^2$."
   ],
   "metadata": {
    "collapsed": false,
    "pycharm": {
     "name": "#%% md\n"
    }
   }
  },
  {
   "cell_type": "code",
   "execution_count": 2,
   "outputs": [
    {
     "name": "stdout",
     "output_type": "stream",
     "text": [
      "[4, 1, 0, 0]\n"
     ]
    }
   ],
   "source": [
    "from math import sqrt\n",
    "# from itertools import permutations\n",
    "\n",
    "try:\n",
    "    n = int(input(\"Enter the number n:\"))\n",
    "    if n > 0:\n",
    "        rez = []\n",
    "        for i in range(4):\n",
    "            x = int(sqrt(n))\n",
    "            n -= x ** 2\n",
    "            rez.append(x)\n",
    "        if n != 0: print(\"There are no such numbers\")\n",
    "        else:\n",
    "            print(rez)\n",
    "    else:\n",
    "        print(\"Input error!\")\n",
    "except ValueError:\n",
    "    print(\"Input error!\")\n",
    "\n",
    "# rez = [[a := int(sqrt(n)), b := n - a ** 2] for _ in range(4)]\n",
    "# rez = [list(permutations([range(n)], 4))]"
   ],
   "metadata": {
    "collapsed": false,
    "pycharm": {
     "name": "#%%\n"
    }
   }
  },
  {
   "cell_type": "markdown",
   "source": [
    "# Examples\n",
    "\n",
    "### Example 1\n",
    "n = 456\n",
    "There are no such numbers\n",
    "### Example 2\n",
    "n = 1270\n",
    "[35, 6, 3, 0]\n",
    "### Example 3\n",
    "n = 36\n",
    "[6, 0, 0, 0]\n"
   ],
   "metadata": {
    "collapsed": false,
    "pycharm": {
     "name": "#%% md\n"
    }
   }
  }
 ],
 "metadata": {
  "kernelspec": {
   "display_name": "Python 3",
   "language": "python",
   "name": "python3"
  },
  "language_info": {
   "codemirror_mode": {
    "name": "ipython",
    "version": 2
   },
   "file_extension": ".py",
   "mimetype": "text/x-python",
   "name": "python",
   "nbconvert_exporter": "python",
   "pygments_lexer": "ipython2",
   "version": "2.7.6"
  }
 },
 "nbformat": 4,
 "nbformat_minor": 0
}