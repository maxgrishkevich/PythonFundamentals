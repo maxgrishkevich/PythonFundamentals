{
 "cells": [
  {
   "cell_type": "markdown",
   "source": [
    "### Варіант № 3\n",
    "### Завдання № 509(б)\n",
    "Відомості про автомобіль складаються з його марки, номеру та прізвища\n",
    "власника. Дано файл $f$, який містить відомості про декілька\n",
    "автомобілів. Знайти кількість автомобілів кожної марки."
   ],
   "metadata": {
    "collapsed": false,
    "pycharm": {
     "name": "#%% md\n"
    }
   }
  },
  {
   "cell_type": "code",
   "execution_count": 1,
   "outputs": [
    {
     "name": "stdout",
     "output_type": "stream",
     "text": [
      "Mazda, iu3478sd, Peterson\n",
      "Mercedes, hj1840fl, Grahamyny\n",
      "BMW, jn4592or, Valmont\n",
      "Porsche, lk4368kd, Avgustovych\n",
      "Mercedes, jn4592nd, Terpan\n",
      "Audi, sp2850nj, Oldman\n",
      "BMW, dl4786pw, Gudson\n",
      "Toyota, co4792lr, Jokasaki\n",
      "Mercedes, nh1084pd, Wartyn\n",
      "Porsche, nw0947od, Helnuk \n",
      "\n",
      " {('BMW', 2), ('Mazda', 1), ('Porsche', 2), ('Mercedes', 3), ('Audi', 1), ('Toyota', 1)}\n"
     ]
    }
   ],
   "source": [
    "with open('19_f.txt') as f:\n",
    "    data_f = f.read()\n",
    "list_f = data_f.split('\\n')\n",
    "list_f = [list_f[i].split(', ') for i in range(len(list_f))]\n",
    "print(data_f, \"\\n\\n\", set((s[0], data_f.count(s[0])) for s in list_f))"
   ],
   "metadata": {
    "collapsed": false,
    "pycharm": {
     "name": "#%%\n"
    }
   }
  },
  {
   "cell_type": "markdown",
   "source": [
    "# Examples\n",
    "\n",
    "### Example 1\n",
    "Mazda, iu3478sd, Peterson\n",
    "Mercedes, hj1840fl, Grahamyny\n",
    "BMW, jn4592or, Valmont\n",
    "Porsche, lk4368kd, Avgustovych\n",
    "Mercedes, jn4592nd, Terpan\n",
    "Audi, sp2850nj, Oldman\n",
    "BMW, dl4786pw, Gudson\n",
    "Toyota, co4792lr, Jokasaki\n",
    "Mercedes, nh1084pd, Wartyn\n",
    "Porsche, nw0947od, Helnuk\n",
    "\n",
    "{('Mercedes', 3), ('BMW', 2), ('Audi', 1),\n",
    "('Toyota', 1), ('Porsche', 2), ('Mazda', 1)}"
   ],
   "metadata": {
    "collapsed": false,
    "pycharm": {
     "name": "#%% md\n"
    }
   }
  }
 ],
 "metadata": {
  "kernelspec": {
   "display_name": "Python 3",
   "language": "python",
   "name": "python3"
  },
  "language_info": {
   "codemirror_mode": {
    "name": "ipython",
    "version": 2
   },
   "file_extension": ".py",
   "mimetype": "text/x-python",
   "name": "python",
   "nbconvert_exporter": "python",
   "pygments_lexer": "ipython2",
   "version": "2.7.6"
  }
 },
 "nbformat": 4,
 "nbformat_minor": 0
}