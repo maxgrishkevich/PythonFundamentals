{
 "cells": [
  {
   "cell_type": "markdown",
   "source": [
    "### Варіант № 3\n",
    "### Завдання № 741(б)\n",
    "Вирахувати інтеграл по формулам чисельного інтегрування\n",
    "і по формулі Ньютона-Лейбніца. Порівняти результати:\n",
    "$\\displaystyle\\int_1^9 \\frac{dx}{x}$"
   ],
   "metadata": {
    "collapsed": false,
    "pycharm": {
     "name": "#%% md\n"
    }
   }
  },
  {
   "cell_type": "code",
   "execution_count": 7,
   "outputs": [
    {
     "name": "stdout",
     "output_type": "stream",
     "text": [
      "log(9)\n",
      "2.1972\n"
     ]
    }
   ],
   "source": [
    "from scipy.integrate import quad\n",
    "from sympy import integrate\n",
    "from sympy.abc import x\n",
    "\n",
    "print(integrate(1/x, (x, 1, 9)))\n",
    "print('{:.4f}'.format(quad(lambda i: 1 / i, 1, 9)[0]))"
   ],
   "metadata": {
    "collapsed": false,
    "pycharm": {
     "name": "#%%\n"
    }
   }
  },
  {
   "cell_type": "markdown",
   "source": [
    "# Examples\n",
    "\n",
    "### Example 1\n",
    "log(9)\n",
    "2.1972245773362205"
   ],
   "metadata": {
    "collapsed": false,
    "pycharm": {
     "name": "#%% md\n"
    }
   }
  }
 ],
 "metadata": {
  "kernelspec": {
   "display_name": "Python 3",
   "language": "python",
   "name": "python3"
  },
  "language_info": {
   "codemirror_mode": {
    "name": "ipython",
    "version": 2
   },
   "file_extension": ".py",
   "mimetype": "text/x-python",
   "name": "python",
   "nbconvert_exporter": "python",
   "pygments_lexer": "ipython2",
   "version": "2.7.6"
  }
 },
 "nbformat": 4,
 "nbformat_minor": 0
}