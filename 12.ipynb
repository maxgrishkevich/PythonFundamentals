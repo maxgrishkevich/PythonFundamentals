{
 "cells": [
  {
   "cell_type": "markdown",
   "source": [
    "### Варіант № 3\n",
    "### Завдання № 220(в)\n",
    "Розглядається послідовність $a_1,...,a_{1000}$. Потрібно визначити\n",
    "скільки членів послідовності з номерами $1,2,4,8,16,...$ мають\n",
    "значення менше, ніж $0.25$. Прицьому вважати, що:\n",
    "$a_1=0.01;$ $a_k=sin(k+a_{k-1}),$ $k = 2,...,1000$"
   ],
   "metadata": {
    "collapsed": false,
    "pycharm": {
     "name": "#%% md\n"
    }
   }
  },
  {
   "cell_type": "code",
   "execution_count": 10,
   "outputs": [
    {
     "name": "stdout",
     "output_type": "stream",
     "text": [
      "14\n"
     ]
    }
   ],
   "source": [
    "from math import sin\n",
    "\n",
    "counter, a = 1, [0.01]\n",
    "for k in range(2, 1001):\n",
    "    ak = sin(k + a[-1])\n",
    "    a.append(ak)\n",
    "    if k & (k - 1) == 0 and a[-1] < 0.25:\n",
    "        counter += 1\n",
    "print(counter)"
   ],
   "metadata": {
    "collapsed": false,
    "pycharm": {
     "name": "#%%\n"
    }
   }
  },
  {
   "cell_type": "markdown",
   "source": [
    "# Examples\n",
    "### Example 1\n",
    "7\n"
   ],
   "metadata": {
    "collapsed": false,
    "pycharm": {
     "name": "#%% md\n"
    }
   }
  }
 ],
 "metadata": {
  "kernelspec": {
   "display_name": "Python 3",
   "language": "python",
   "name": "python3"
  },
  "language_info": {
   "codemirror_mode": {
    "name": "ipython",
    "version": 2
   },
   "file_extension": ".py",
   "mimetype": "text/x-python",
   "name": "python",
   "nbconvert_exporter": "python",
   "pygments_lexer": "ipython2",
   "version": "2.7.6"
  }
 },
 "nbformat": 4,
 "nbformat_minor": 0
}