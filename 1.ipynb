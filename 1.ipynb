{
 "cells": [
  {
   "cell_type": "markdown",
   "metadata": {
    "pycharm": {
     "name": "#%% md\n"
    }
   },
   "source": [
    "### Варіант № 3\n",
    "### Завдання № 6\n",
    "Дано катети прямокутного трикутника. Знайти його:\n",
    "1. гіпотенузу $c = \\sqrt{a^{2}+b^{2}}$\n",
    "2. площу $S = \\frac{1}{2}ab$"
   ]
  },
  {
   "cell_type": "code",
   "execution_count": null,
   "metadata": {
    "pycharm": {
     "name": "#%%\n"
    }
   },
   "outputs": [],
   "source": [
    "try:\n",
    "    a = float(input(\"Enter a = \"))\n",
    "    b = float(input(\"Enter b = \"))\n",
    "    if a > 0 and b > 0:\n",
    "        print(\"c = \", (a**2 + b**2)**(1/2))\n",
    "        print(\"S = \", 1/2*a*b)\n",
    "    else:\n",
    "        print(\"Input error: Enter please the positive numbers\")\n",
    "except ValueError:\n",
    "    print(\"Input error!\")"
   ]
  },
  {
   "cell_type": "markdown",
   "metadata": {
    "pycharm": {
     "name": "#%% md\n"
    }
   },
   "source": [
    "### Example 1\n",
    "Enter a = 2\\\n",
    "Enter b = 4\\\n",
    "c =  4.47213595499958\\\n",
    "S =  4.0\n",
    "\n",
    "### Example 2\n",
    "Enter a = 5\\\n",
    "Enter b = 4\\\n",
    "c =  6.4031242374328485\\\n",
    "S =  10.0\n",
    "\n",
    "### Example 3\n",
    "Enter a = 12\\\n",
    "Enter b = 23\\\n",
    "c =  25.942243542145693\\\n",
    "S =  138.0"
   ]
  },
  {
   "cell_type": "markdown",
   "metadata": {
    "pycharm": {
     "name": "#%% md\n"
    }
   },
   "source": [
    "### Завдання № 11(е)\n",
    "Дано $x$, $y$, $z$. Обчислити $a$, $b$, якщо: \n",
    "\n",
    "$a = \\frac{1+\\sin^{2}(x+y)}{2+|x-2x/(1+x^{2}y^{2}|)}+x$\n",
    "\n",
    "$b = \\cos^{2}(\\arctan\\frac{1}{z})$"
   ]
  },
  {
   "cell_type": "code",
   "execution_count": null,
   "metadata": {
    "pycharm": {
     "name": "#%%\n"
    }
   },
   "outputs": [],
   "source": [
    "import math\n",
    "try:\n",
    "    x = float(input(\"Enter x = \"))\n",
    "    y = float(input(\"Enter y = \"))\n",
    "    z = float(input(\"Enter z = \"))\n",
    "    print(\"a = \", (1 + math.sin(x + y) ** 2)/(2 + abs(x - (2 * x)/(1 + x ** 2 * y ** 2))) + x,\n",
    "          \"\\nb = \", math.cos(math.atan(1/z)) ** 2)\n",
    "except ValueError:\n",
    "    print(\"Input error!\")"
   ]
  },
  {
   "cell_type": "markdown",
   "metadata": {
    "pycharm": {
     "name": "#%% md\n"
    }
   },
   "source": [
    "### Example 1\n",
    "Enter x = 1\\\n",
    "Enter y = 2\\\n",
    "Enter z = 3\\\n",
    "a =  1.3922749448749296\\\n",
    "b =  0.8999999999999999\n",
    "\n",
    "### Example 2\n",
    "Enter x = 567\\\n",
    "Enter y = 5768\\\n",
    "Enter z = 657\\\n",
    "a =  567.0035141197162\\ \n",
    "b =  0.9999976833082358\n",
    "\n",
    "### Example 3\n",
    "Enter x = -34\\\n",
    "Enter y = -56\\\n",
    "Enter z = 23\\\n",
    "a =  -33.9500213618888\\ \n",
    "b =  0.9981132075471698"
   ]
  },
  {
   "cell_type": "markdown",
   "metadata": {
    "pycharm": {
     "name": "#%% md\n"
    }
   },
   "source": [
    "### Завдання № 25(а)\n",
    "Трикутник задано координатами своїх вершин. Знайти:\n",
    "1. периметр трикутника $P = a + b + c$"
   ]
  },
  {
   "cell_type": "code",
   "execution_count": null,
   "metadata": {
    "pycharm": {
     "name": "#%%\n"
    }
   },
   "outputs": [],
   "source": [
    "try:\n",
    "    Ax = float(input(\"Enter coordinates of first point: \\nAx = \"))\n",
    "    Ay = float(input(\"Ay = \"))\n",
    "    Bx = float(input(\"Enter coordinates of second point: \\nBx = \"))\n",
    "    By = float(input(\"By = \"))\n",
    "    Cx = float(input(\"Enter coordinates of second point: \\nCx = \"))\n",
    "    Cy = float(input(\"Cy = \")) \n",
    "    a = ((Cx - Bx) ** 2 + (Cy - By) ** 2) ** (1 / 2)\n",
    "    b = ((Ax - Cx) ** 2 + (Ay - Cy) ** 2) ** (1 / 2)\n",
    "    c = ((Bx - Ax) ** 2 + (By - Ay) ** 2) ** (1 / 2)\n",
    "    if a == 0 or b == 0 or c == 0:\n",
    "        print(\"Input error!\")\n",
    "        exit()\n",
    "    else:\n",
    "        p = a + b + c\n",
    "        print(\"P = \", p)\n",
    "except ValueError:\n",
    "    print(\"Input error!\")"
   ]
  },
  {
   "cell_type": "markdown",
   "metadata": {
    "pycharm": {
     "name": "#%% md\n"
    }
   },
   "source": [
    "### Example 1\n",
    "Enter coordinates of first point:\\ \n",
    "Ax = 1\\\n",
    "Ay = 2\\\n",
    "Enter coordinates of second point:\\ \n",
    "Bx = 3\\\n",
    "By = 4\\\n",
    "Enter coordinates of second point:\\ \n",
    "Cx = 5\\\n",
    "Cy = 6\\\n",
    "P =  11.313708498984761\n",
    "\n",
    "### Example 2\n",
    "Enter coordinates of first point:\\ \n",
    "Ax = 3\\\n",
    "Ay = 0\\\n",
    "Enter coordinates of second point:\\ \n",
    "Bx = -4\\\n",
    "By = 10\\\n",
    "Enter coordinates of second point:\\ \n",
    "Cx = 12\\\n",
    "Cy = -6\\\n",
    "P =  45.650626440095195\n",
    "\n",
    "### Example 3\n",
    "Enter coordinates of first point:\\ \n",
    "Ax = 13\\\n",
    "Ay = 5\\\n",
    "Enter coordinates of second point:\\ \n",
    "Bx = 0\\\n",
    "By = 0\\\n",
    "Enter coordinates of second point:\\ \n",
    "Cx = -5\\\n",
    "Cy = 13\\\n",
    "P =  47.554492157960446"
   ]
  },
  {
   "cell_type": "markdown",
   "metadata": {
    "pycharm": {
     "name": "#%% md\n"
    }
   },
   "source": [
    "### Завдання № 23(б)\n",
    "Трикутник задано довжинами своїх сторін. Знайти:\n",
    "1. довжини медіан $M_a = \\frac{\\sqrt{2b^{2}+2c^{2}-a^{2}}}{2}$; \n",
    "$M_b = \\frac{\\sqrt{2a^{2}+2c^{2}-b^{2}}}{2}$;\n",
    "$M_c = \\frac{\\sqrt{2a^{2}+2b^{2}-c^{2}}}{2}$;"
   ]
  },
  {
   "cell_type": "code",
   "execution_count": null,
   "metadata": {
    "pycharm": {
     "name": "#%%\n"
    }
   },
   "outputs": [],
   "source": [
    "import math\n",
    "try:\n",
    "    a = float(input(\"Enter a = \"))\n",
    "    b = float(input(\"Enter b = \"))\n",
    "    c = float(input(\"Enter c = \"))\n",
    "    if a > 0 and b > 0 and c > 0:\n",
    "        print(\"Ma = \", math.sqrt(2 * b ** 2 + 2 * c ** 2 - a ** 2) / 2,\n",
    "              \"\\nMb = \", math.sqrt(2 * a ** 2 + 2 * c ** 2 - b ** 2) / 2,\n",
    "              \"\\nMc = \", math.sqrt(2 * a ** 2 + 2 * b ** 2 - c ** 2) / 2)\n",
    "    else:\n",
    "        print(\"Input error: Enter please the positive numbers\")\n",
    "except ValueError:\n",
    "    print(\"Input error!\")"
   ]
  },
  {
   "cell_type": "markdown",
   "metadata": {
    "pycharm": {
     "name": "#%% md\n"
    }
   },
   "source": [
    "### Example 1\n",
    "Enter a = 1\\\n",
    "Enter b = 2\\\n",
    "Enter c = 3\\\n",
    "Ma =  2.5\\\n",
    "Mb =  2.0\\\n",
    "Mc =  0.5\n",
    "\n",
    "### Example 2\n",
    "Enter a = 2\\\n",
    "Enter b = 4\\\n",
    "Enter c = 6\\\n",
    "Ma =  5.0\\\n",
    "Mb =  4.0\\\n",
    "Mc =  1.0\n",
    "\n",
    "### Example 3\n",
    "Enter a = 0\\\n",
    "Enter b = -3\\\n",
    "Enter c = 4\\\n",
    "Input error: Enter please the positive numbers"
   ]
  },
  {
   "cell_type": "code",
   "execution_count": null,
   "metadata": {
    "pycharm": {
     "name": "#%%\n"
    }
   },
   "outputs": [],
   "source": []
  }
 ],
 "metadata": {
  "kernelspec": {
   "display_name": "Python 3",
   "language": "python",
   "name": "python3"
  },
  "language_info": {
   "codemirror_mode": {
    "name": "ipython",
    "version": 3
   },
   "file_extension": ".py",
   "mimetype": "text/x-python",
   "name": "python",
   "nbconvert_exporter": "python",
   "pygments_lexer": "ipython3",
   "version": "3.9.1"
  }
 },
 "nbformat": 4,
 "nbformat_minor": 2
}