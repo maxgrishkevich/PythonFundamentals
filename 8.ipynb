{
 "cells": [
  {
   "cell_type": "markdown",
   "source": [
    "### Варіант № 3\n",
    "### Завдання № 178(в)\n",
    "Дано натуральні числа $n$, $a_1, ..., a_n$. Визначити кількість членів $a_k$\n",
    "послідовності $a_1, ..., a_n$, які являються квадратами парних чисел."
   ],
   "metadata": {
    "collapsed": false,
    "pycharm": {
     "name": "#%% md\n"
    }
   }
  },
  {
   "cell_type": "code",
   "execution_count": 6,
   "outputs": [
    {
     "name": "stdout",
     "output_type": "stream",
     "text": [
      "4\n"
     ]
    }
   ],
   "source": [
    "import math\n",
    "import random\n",
    "\n",
    "try:\n",
    "    n = [random.randint(0, 100) for i in range(int(input()))]\n",
    "    print(len([x for x in n if math.sqrt(x) % 2 == 0]))\n",
    "except ValueError:\n",
    "    print(\"Input error!\")"
   ],
   "metadata": {
    "collapsed": false,
    "pycharm": {
     "name": "#%%\n"
    }
   }
  },
  {
   "cell_type": "markdown",
   "source": [
    "# Examples\n",
    "\n",
    "### Example 1\n",
    "225 16 3 6 17 49 121\n",
    "1\n",
    "### Example 2\n",
    "25 7 2 256 17 144 100\n",
    "3\n",
    "### Example 3\n",
    "1 2 4 5 7 9 12 36 16 34 64 81\n",
    "4"
   ],
   "metadata": {
    "collapsed": false,
    "pycharm": {
     "name": "#%% md\n"
    }
   }
  }
 ],
 "metadata": {
  "kernelspec": {
   "display_name": "Python 3",
   "language": "python",
   "name": "python3"
  },
  "language_info": {
   "codemirror_mode": {
    "name": "ipython",
    "version": 2
   },
   "file_extension": ".py",
   "mimetype": "text/x-python",
   "name": "python",
   "nbconvert_exporter": "python",
   "pygments_lexer": "ipython2",
   "version": "2.7.6"
  }
 },
 "nbformat": 4,
 "nbformat_minor": 0
}