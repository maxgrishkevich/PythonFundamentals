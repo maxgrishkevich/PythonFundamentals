{
 "cells": [
  {
   "cell_type": "markdown",
   "source": [
    "### Варіант № 3\n",
    "### Завдання № 178(д)\n",
    "Дано натуральні числа $n$, $a_1, ..., a_n$. Визначити кількість членів $a_k$\n",
    "послідовності $a_1, ..., a_n$, які задовільняють умову $2^k < a_k < k!$."
   ],
   "metadata": {
    "collapsed": false,
    "pycharm": {
     "name": "#%% md\n"
    }
   }
  },
  {
   "cell_type": "code",
   "execution_count": 2,
   "outputs": [
    {
     "name": "stdout",
     "output_type": "stream",
     "text": [
      "3\n"
     ]
    }
   ],
   "source": [
    "import math\n",
    "import random\n",
    "\n",
    "try:\n",
    "    n = [random.randint(0, 100) for i in range(int(input()))]\n",
    "    print(n, len([x for x in n\n",
    "               if 2 ** (n.index(x) + 1) < x < math.factorial(n.index(x) + 1)]))\n",
    "except ValueError:\n",
    "    print(\"Input error!\")"
   ],
   "metadata": {
    "collapsed": false,
    "pycharm": {
     "name": "#%%\n"
    }
   }
  },
  {
   "cell_type": "markdown",
   "source": [
    "# Examples\n",
    "\n",
    "### Example 1\n",
    "1 1 1 17 35 111\n",
    "3\n",
    "### Example 2\n",
    "8 9 10 11 12 13 14 15 16 17\n",
    "0\n",
    "### Example 3\n",
    "99 110 23 32 12 100\n",
    "1"
   ],
   "metadata": {
    "collapsed": false,
    "pycharm": {
     "name": "#%% md\n"
    }
   }
  }
 ],
 "metadata": {
  "kernelspec": {
   "display_name": "Python 3",
   "language": "python",
   "name": "python3"
  },
  "language_info": {
   "codemirror_mode": {
    "name": "ipython",
    "version": 2
   },
   "file_extension": ".py",
   "mimetype": "text/x-python",
   "name": "python",
   "nbconvert_exporter": "python",
   "pygments_lexer": "ipython2",
   "version": "2.7.6"
  }
 },
 "nbformat": 4,
 "nbformat_minor": 0
}