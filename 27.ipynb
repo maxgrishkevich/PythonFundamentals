{
 "cells": [
  {
   "cell_type": "markdown",
   "source": [
    "### Варіант № 3\n",
    "### Завдання № 738(б)\n",
    "Іноді функція $y = f(x)$ задається на деякому відрізку за\n",
    "допомогою вигляду  $F(x, y) = 0$. Вирахувати значення функції,\n",
    "заданої рівнянням:\n",
    "$y^3 + y^2 - x^2 = 0$ для $x = 1, 1.1, 1.2, ..., 2$"
   ],
   "metadata": {
    "collapsed": false,
    "pycharm": {
     "name": "#%% md\n"
    }
   }
  },
  {
   "cell_type": "code",
   "execution_count": 2,
   "outputs": [
    {
     "name": "stdout",
     "output_type": "stream",
     "text": [
      "(1.0, 0.75)\n",
      "(1.1, 0.82)\n",
      "(1.2, 0.88)\n",
      "(1.3, 0.93)\n",
      "(1.4, 0.99)\n",
      "(1.5, 1.05)\n",
      "(1.6, 1.1)\n",
      "(1.7, 1.16)\n",
      "(1.8, 1.21)\n",
      "(1.9, 1.26)\n",
      "(2.0, 1.31)\n"
     ]
    }
   ],
   "source": [
    "from scipy.optimize import fsolve\n",
    "\n",
    "print(*[(x / 10, round(fsolve(lambda y: y ** 3 + y ** 2 - (x / 10) ** 2, 1)[0], 2)) for x in range(10, 21)], sep='\\n')"
   ],
   "metadata": {
    "collapsed": false,
    "pycharm": {
     "name": "#%%\n"
    }
   }
  },
  {
   "cell_type": "markdown",
   "source": [
    "# Examples\n",
    "\n",
    "### Example 1\n",
    "[(1.0, 0.75), (1.1, 0.82), (1.2, 0.88), (1.3, 0.93), (1.4, 0.99), (1.5, 1.05), (1.6, 1.1), (1.7, 1.16), (1.8, 1.21), (1.9, 1.26), (2.0, 1.31)]"
   ],
   "metadata": {
    "collapsed": false,
    "pycharm": {
     "name": "#%% md\n"
    }
   }
  }
 ],
 "metadata": {
  "kernelspec": {
   "display_name": "Python 3",
   "language": "python",
   "name": "python3"
  },
  "language_info": {
   "codemirror_mode": {
    "name": "ipython",
    "version": 2
   },
   "file_extension": ".py",
   "mimetype": "text/x-python",
   "name": "python",
   "nbconvert_exporter": "python",
   "pygments_lexer": "ipython2",
   "version": "2.7.6"
  }
 },
 "nbformat": 4,
 "nbformat_minor": 0
}