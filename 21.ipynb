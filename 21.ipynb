{
 "cells": [
  {
   "cell_type": "markdown",
   "source": [
    "### Варіант № 3\n",
    "### Завдання № 575(а)\n",
    "Отримати всі підходящі дроби позитивного, менше одиниці\n",
    "раціонального числа $\\frac s t < 1$ при $s < t$ (вказати\n",
    "чисельники та знаменники)"
   ],
   "metadata": {
    "collapsed": false,
    "pycharm": {
     "name": "#%% md\n"
    }
   }
  },
  {
   "cell_type": "code",
   "execution_count": 1,
   "outputs": [
    {
     "name": "stdout",
     "output_type": "stream",
     "text": [
      "[1, 2, 22] \n",
      " [(1, 1), (2, 3), (45, 67)]\n"
     ]
    }
   ],
   "source": [
    "try:\n",
    "    s = int(input(\"Enter the numerator:\"))\n",
    "    t = int(input(\"Enter the denominator:\"))\n",
    "    if 0 < s < t and t > 0:\n",
    "        b, p, q, i = [], [], [], 0\n",
    "        while s != 0:\n",
    "            b.append(t // s)\n",
    "            r = t % s; t = s; s = r\n",
    "            if i == 0: p.append(1), q.append(b[0])\n",
    "            elif i == 1: p.append(b[1]), q.append(b[0] * b[1] + 1)\n",
    "            else:\n",
    "                p.append(b[i] * p[-1] + p[-2])\n",
    "                q.append(b[i] * q[-1] + q[-2])\n",
    "            i += 1\n",
    "        print(b, \"\\n\", list(zip(p, q)))\n",
    "    else:\n",
    "        print(\"Input error!\")\n",
    "except ValueError:\n",
    "    print(\"Input error!\")"
   ],
   "metadata": {
    "collapsed": false,
    "pycharm": {
     "name": "#%%\n"
    }
   }
  },
  {
   "cell_type": "markdown",
   "source": [
    "# Examples\n",
    "\n",
    "### Example 1\n",
    "2345/56127\n",
    "[23, 1, 14, 3, 16, 1, 2]\n",
    "[(1, 23), (1, 24), (15, 359), (46, 1101), (751, 17975), (797, 19076), (2345, 56127)]\n",
    "### Example 2\n",
    "3/17\n",
    "[5, 1, 2]\n",
    "[(1, 5), (1, 6), (3, 17)]\n",
    "### Example 3\n",
    "67/89\n",
    "[1, 3, 22]\n",
    "[(1, 1), (3, 4), (67, 89)]"
   ],
   "metadata": {
    "collapsed": false,
    "pycharm": {
     "name": "#%% md\n"
    }
   }
  }
 ],
 "metadata": {
  "kernelspec": {
   "display_name": "Python 3",
   "language": "python",
   "name": "python3"
  },
  "language_info": {
   "codemirror_mode": {
    "name": "ipython",
    "version": 2
   },
   "file_extension": ".py",
   "mimetype": "text/x-python",
   "name": "python",
   "nbconvert_exporter": "python",
   "pygments_lexer": "ipython2",
   "version": "2.7.6"
  }
 },
 "nbformat": 4,
 "nbformat_minor": 0
}