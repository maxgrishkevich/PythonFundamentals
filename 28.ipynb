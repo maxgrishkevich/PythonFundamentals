{
 "cells": [
  {
   "cell_type": "markdown",
   "source": [
    "### Варіант № 3\n",
    "### Завдання № 736\n",
    "Знайти з точністю 0.0001 всі корені рівняння $1/x=sin x$,\n",
    "які належать відрізку $[-\\pi, \\pi]$"
   ],
   "metadata": {
    "collapsed": false,
    "pycharm": {
     "name": "#%% md\n"
    }
   }
  },
  {
   "cell_type": "code",
   "execution_count": 39,
   "outputs": [
    {
     "name": "stdout",
     "output_type": "stream",
     "text": [
      "[-2.7726, -1.1142, 1.1142, 2.7726]\n"
     ]
    },
    {
     "name": "stderr",
     "output_type": "stream",
     "text": [
      "<ipython-input-39-ed48b47c132c>:9: RuntimeWarning: divide by zero encountered in true_divide\n",
      "  plot(x, 1/x - sin(x))\n"
     ]
    },
    {
     "data": {
      "text/plain": "<Figure size 432x288 with 1 Axes>",
      "image/png": "[encoded data removed]"
     },
     "metadata": {
      "needs_background": "light"
     },
     "output_type": "display_data"
    }
   ],
   "source": [
    "from scipy.optimize import fsolve\n",
    "from matplotlib.pyplot import plot, grid, show, axhline\n",
    "from numpy import sin, linspace\n",
    "\n",
    "x = fsolve(lambda i: 1 / i - sin(i), [-3, -1, 1, 3])\n",
    "print([round(i, 4) for i in x])\n",
    "\n",
    "x = linspace(-4, 4, 25)\n",
    "plot(x, 1 / x - sin(x))\n",
    "axhline(color = 'k')\n",
    "grid(True)\n",
    "show()"
   ],
   "metadata": {
    "collapsed": false,
    "pycharm": {
     "name": "#%%\n"
    }
   }
  },
  {
   "cell_type": "markdown",
   "source": [
    "# Examples\n",
    "\n",
    "### Example 1\n",
    "[-2.7726, -1.1142, 1.1142, 2.7726]\n"
   ],
   "metadata": {
    "collapsed": false,
    "pycharm": {
     "name": "#%% md\n"
    }
   }
  }
 ],
 "metadata": {
  "kernelspec": {
   "display_name": "Python 3",
   "language": "python",
   "name": "python3"
  },
  "language_info": {
   "codemirror_mode": {
    "name": "ipython",
    "version": 2
   },
   "file_extension": ".py",
   "mimetype": "text/x-python",
   "name": "python",
   "nbconvert_exporter": "python",
   "pygments_lexer": "ipython2",
   "version": "2.7.6"
  }
 },
 "nbformat": 4,
 "nbformat_minor": 0
}