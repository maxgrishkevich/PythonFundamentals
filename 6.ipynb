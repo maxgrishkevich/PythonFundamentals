{
 "cells": [
  {
   "cell_type": "markdown",
   "source": [
    "### Варіант № 3\n",
    "### Завдання № 77(г)\n",
    "Дано натуральне число $n$. Обчислити:\n",
    "$\\frac{1}{\\sin1}+\\frac{1}{\\sin1+\\sin2}+...+\\frac{1}{\\sin1+...+\\sin n}$"
   ],
   "metadata": {
    "collapsed": false,
    "pycharm": {
     "name": "#%% md\n"
    }
   }
  },
  {
   "cell_type": "code",
   "execution_count": 1,
   "outputs": [
    {
     "name": "stdout",
     "output_type": "stream",
     "text": [
      "\n",
      " 8.845740273146985\n"
     ]
    }
   ],
   "source": [
    "import math\n",
    "\n",
    "try:\n",
    "    n = int(input(\"Enter number n: \"))\n",
    "    print(\"\\n\", sum(1 / sum(math.sin(j)for j in range(1, i + 1))\n",
    "                for i in range(1, n + 1)))\n",
    "except ValueError:\n",
    "    print(\"Input error!\")\n",
    "\n",
    "# sum1, sum2 = 0, 0\n",
    "# for i in range(1, n + 1):\n",
    "#         sum1 = sum1 + math.sin(i)\n",
    "#         sum2 = sum2 + 1/sum1\n",
    "#     print(sum2)"
   ],
   "metadata": {
    "collapsed": false,
    "pycharm": {
     "name": "#%%\n"
    }
   }
  },
  {
   "cell_type": "markdown",
   "source": [
    "# Examples\n",
    "\n",
    "### Example 1\n",
    "Enter number n: 1\n",
    "1.1883951057781212\n",
    "### Example 2\n",
    "Enter number n: 5\n",
    "8.845740273146985\n",
    "### Example 3\n",
    "Enter number n: -2\n",
    "0"
   ],
   "metadata": {
    "collapsed": false,
    "pycharm": {
     "name": "#%% md\n"
    }
   }
  }
 ],
 "metadata": {
  "kernelspec": {
   "display_name": "Python 3",
   "language": "python",
   "name": "python3"
  },
  "language_info": {
   "codemirror_mode": {
    "name": "ipython",
    "version": 2
   },
   "file_extension": ".py",
   "mimetype": "text/x-python",
   "name": "python",
   "nbconvert_exporter": "python",
   "pygments_lexer": "ipython2",
   "version": "2.7.6"
  }
 },
 "nbformat": 4,
 "nbformat_minor": 0
}