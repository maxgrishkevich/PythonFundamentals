{
 "cells": [
  {
   "cell_type": "markdown",
   "source": [
    "### Варіант № 3\n",
    "### Завдання № 284(а)\n",
    "Дано числову послідовність $a_1,...,a_{20}$. Отримати:\n",
    "$a_{20},a_{11},a_{19}a_{10},...,a_{10},a_1$"
   ],
   "metadata": {
    "collapsed": false,
    "pycharm": {
     "name": "#%% md\n"
    }
   }
  },
  {
   "cell_type": "code",
   "execution_count": 3,
   "metadata": {
    "collapsed": true,
    "pycharm": {
     "name": "#%%\n"
    }
   },
   "outputs": [
    {
     "name": "stdout",
     "output_type": "stream",
     "text": [
      "[52, 18, 6, 66, 38, 12, 41, 57, 28, 63, 87, 57, 39, 11, 56, 96, 87, 17, 10, 68] \n",
      " [68, 87, 10, 63, 17, 28, 87, 57, 96, 41, 56, 12, 11, 38, 39, 66, 57, 6, 87, 18, 63, 52]\n"
     ]
    }
   ],
   "source": [
    "import random\n",
    "\n",
    "try:\n",
    "    # a = [1,2,3,4,5,6,7,8,9,10,11,12,13,14,15,16,17,18,19,20]\n",
    "    a = [random.randint(0, 100)for i in range(20)]\n",
    "    print(a, \"\\n\", [a[20 - i // 2 - 1] if i % 2 == 0\n",
    "                    else a[20 // 2 - i // 2] for i in range(22)])\n",
    "except ValueError:\n",
    "    print(\"Input error!\")"
   ]
  },
  {
   "cell_type": "markdown",
   "source": [
    "# Examples\n",
    "\n",
    "### Example 1\n",
    " 1, 2, 3, 4, 5, 6, 7, 8, 9, 10, 11, 12, 13, 14, 15, 16, 17, 18, 19, 20\n",
    " 20, 11, 19, 10, 18, 9, 17, 8, 16, 7, 15, 6, 14, 5, 13, 4, 12, 3, 11, 2, 10, 1\n",
    "\n",
    "### Example 2\n",
    "95, 46, 81, 45, 44, 80, 78, 8, 60, 37, 20, 27, 70, 31, 11, 85, 21, 12, 75, 4\n",
    "4, 20, 75, 37, 12, 60, 21, 8, 85, 78, 11, 80, 31, 44, 70, 45, 27, 81, 20, 46, 37, 95\n",
    "\n",
    "### Example 3\n",
    "14, 80, 66, 87, 57, 69, 86, 95, 78, 33, 21, 83, 36, 53, 13, 32, 27, 88, 52, 2\n",
    "2, 21, 52, 33, 88, 78, 27, 95, 32, 86, 13, 69, 53, 57, 36, 87, 83, 66, 21, 80, 33, 14"
   ],
   "metadata": {
    "collapsed": false,
    "pycharm": {
     "name": "#%% md\n"
    }
   }
  }
 ],
 "metadata": {
  "kernelspec": {
   "display_name": "Python 3",
   "language": "python",
   "name": "python3"
  },
  "language_info": {
   "codemirror_mode": {
    "name": "ipython",
    "version": 2
   },
   "file_extension": ".py",
   "mimetype": "text/x-python",
   "name": "python",
   "nbconvert_exporter": "python",
   "pygments_lexer": "ipython2",
   "version": "2.7.6"
  }
 },
 "nbformat": 4,
 "nbformat_minor": 0
}