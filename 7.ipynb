{
 "cells": [
  {
   "cell_type": "markdown",
   "source": [
    "### Варіант № 3\n",
    "### Завдання № 99\n",
    "Нехай $a_1=u;$ $b_1=v;$ $a_k=2b_{k-1}+a_{k-1};$\n",
    "$b_k=2a^2_{k-1}+b_{k-1};$ $k=2,3,...$\n",
    "Дані дійсні $u,$ $v,$ натуральне $n$. Знайти\n",
    "$\\sum\\limits_{k=1}^n\\frac{a_kb_k}{(k+1)!}$."
   ],
   "metadata": {
    "collapsed": false,
    "pycharm": {
     "name": "#%% md\n"
    }
   }
  },
  {
   "cell_type": "code",
   "execution_count": 8,
   "outputs": [
    {
     "name": "stdout",
     "output_type": "stream",
     "text": [
      "-1101.0\n"
     ]
    }
   ],
   "source": [
    "import math\n",
    "\n",
    "try:\n",
    "    n = int(input(\"Enter number n: \"))\n",
    "    a = float(input(\"Enter number u: \"))\n",
    "    b = float(input(\"Enter number v: \"))\n",
    "    s = (a * b) / 2\n",
    "    if n > 0:\n",
    "        for k in range(2, n + 1):\n",
    "            a = 2 * b + a\n",
    "            b = 2 * a ** 2 + b\n",
    "            s = s + (a * b) / math.factorial(k + 1)\n",
    "        print(s)\n",
    "except ValueError:\n",
    "    print(\"Input error!\")"
   ],
   "metadata": {
    "collapsed": false,
    "pycharm": {
     "name": "#%%\n"
    }
   }
  },
  {
   "cell_type": "markdown",
   "source": [
    "# Examples\n",
    "\n",
    "### Example 1\n",
    "Enter number n: 3\n",
    "Enter number u: 2\n",
    "Enter number v: 4\n",
    "6090116.333333333\n",
    "### Example 2\n",
    "Enter number n: 2\n",
    "Enter number u: 2\n",
    "Enter number v: 5\n",
    "591.0\n",
    "### Example 3\n",
    "Enter number n: 2\n",
    "Enter number u: -3\n",
    "Enter number v: -6\n",
    "-1101.0"
   ],
   "metadata": {
    "collapsed": false,
    "pycharm": {
     "name": "#%% md\n"
    }
   }
  }
 ],
 "metadata": {
  "kernelspec": {
   "display_name": "Python 3",
   "language": "python",
   "name": "python3"
  },
  "language_info": {
   "codemirror_mode": {
    "name": "ipython",
    "version": 2
   },
   "file_extension": ".py",
   "mimetype": "text/x-python",
   "name": "python",
   "nbconvert_exporter": "python",
   "pygments_lexer": "ipython2",
   "version": "2.7.6"
  }
 },
 "nbformat": 4,
 "nbformat_minor": 0
}