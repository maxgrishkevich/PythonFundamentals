{
 "cells": [
  {
   "cell_type": "markdown",
   "source": [
    "### Варіант № 3\n",
    "### Завдання № 566\n",
    "Знайти всі прості нескоротні дроби, що знаходяться між 0 і 1, знаменники\n",
    "яких не перевищують 7 (дріб задається двома натуральними числами -\n",
    "чисельник і знаменник)"
   ],
   "metadata": {
    "collapsed": false,
    "pycharm": {
     "name": "#%% md\n"
    }
   }
  },
  {
   "cell_type": "code",
   "execution_count": 3,
   "outputs": [
    {
     "name": "stdout",
     "output_type": "stream",
     "text": [
      "['1/2', '1/3', '2/3', '1/4', '3/4', '1/5', '2/5', '3/5', '4/5', '1/6', '4/6', '5/6', '1/7', '2/7', '3/7', '4/7', '5/7', '6/7']\n"
     ]
    }
   ],
   "source": [
    "from itertools import chain\n",
    "\n",
    "print(list(chain.from_iterable([[f\"{i}/{j}\" for i in range(1, 7) if (j % i != 0 and i < j) or i == 1]\n",
    "                                for j in range(2, 8)])))"
   ],
   "metadata": {
    "collapsed": false,
    "pycharm": {
     "name": "#%%\n"
    }
   }
  },
  {
   "cell_type": "markdown",
   "source": [
    "# Examples\n",
    "\n",
    "### Example 1\n",
    "1/2, 1/3, 2/3, 1/4, 3/4, 1/5, 2/5, 3/5, 4/5, 1/6, 4/6, 5/6, 1/7, 2/7, 3/7, 4/7, 5/7, 6/7"
   ],
   "metadata": {
    "collapsed": false,
    "pycharm": {
     "name": "#%% md\n"
    }
   }
  }
 ],
 "metadata": {
  "kernelspec": {
   "display_name": "Python 3",
   "language": "python",
   "name": "python3"
  },
  "language_info": {
   "codemirror_mode": {
    "name": "ipython",
    "version": 2
   },
   "file_extension": ".py",
   "mimetype": "text/x-python",
   "name": "python",
   "nbconvert_exporter": "python",
   "pygments_lexer": "ipython2",
   "version": "2.7.6"
  }
 },
 "nbformat": 4,
 "nbformat_minor": 0
}