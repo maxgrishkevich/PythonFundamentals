{
 "cells": [
  {
   "cell_type": "markdown",
   "source": [
    "### Варіант № 3\n",
    "### Завдання № 494\n",
    "Дано символьні файли $f$ і $g$. Визначити, чи співпадають\n",
    "компоненти файла $f$ з компонентами файла $g$. Якщо ні, то\n",
    "отримати номер першого компонента, яким файли $f$ і $g$\n",
    "відрізняються між собою. У випадку, коли один із файлів має\n",
    "$n$ компонентів $(n\\ge0)$і повторяє початок другого (більш довгого)\n",
    "файла, відповіддю має бути число $n+1$."
   ],
   "metadata": {
    "collapsed": false,
    "pycharm": {
     "name": "#%% md\n"
    }
   }
  },
  {
   "cell_type": "code",
   "execution_count": 7,
   "outputs": [
    {
     "name": "stdout",
     "output_type": "stream",
     "text": [
      "File 'f': hello\n",
      "File 'g': helloroeorv\n",
      "[True, True, True, True, True, False, False, False, False, False, False]\n",
      "6\n"
     ]
    }
   ],
   "source": [
    "import itertools\n",
    "\n",
    "with open('18_f.txt') as f, \\\n",
    "        open('18_g.txt') as g:\n",
    "    data_f = f.read()\n",
    "    data_g = g.read()\n",
    "    print(f\"File 'f': {data_f}\\nFile 'g': {data_g}\")\n",
    "\n",
    "    print(rez := [a == b for a, b in itertools.zip_longest(data_f, data_g, fillvalue='!')])\n",
    "    print(rez.index(False) + 1)\n",
    "\n",
    "\n",
    "# i = 0\n",
    "# try:\n",
    "#     while data_g[i] == data_f[i]: i += 1\n",
    "#     print(rez)\n",
    "# except IndexError:\n",
    "#     print(i + 1) if data_f != data_g else print('0')"
   ],
   "metadata": {
    "collapsed": false,
    "pycharm": {
     "name": "#%%\n"
    }
   }
  },
  {
   "cell_type": "markdown",
   "source": [
    "# Examples\n",
    "\n",
    "### Example 1\n",
    "File 'f': good morning mum!\n",
    "File 'g': good morning mum! nice too meet you!\n",
    "18\n",
    "### Example 2\n",
    "File 'f': good day\n",
    "File 'g': good day\n",
    "0\n",
    "### Example 3\n",
    "File 'f': hello\n",
    "File 'g': hellen\n",
    "5"
   ],
   "metadata": {
    "collapsed": false,
    "pycharm": {
     "name": "#%% md\n"
    }
   }
  }
 ],
 "metadata": {
  "kernelspec": {
   "name": "python3",
   "language": "python",
   "display_name": "Python 3"
  },
  "language_info": {
   "codemirror_mode": {
    "name": "ipython",
    "version": 2
   },
   "file_extension": ".py",
   "mimetype": "text/x-python",
   "name": "python",
   "nbconvert_exporter": "python",
   "pygments_lexer": "ipython2",
   "version": "2.7.6"
  }
 },
 "nbformat": 4,
 "nbformat_minor": 0
}