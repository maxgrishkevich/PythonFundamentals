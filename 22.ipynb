{
 "cells": [
  {
   "cell_type": "markdown",
   "source": [
    "### Варіант № 3\n",
    "### Завдання № 608\n",
    "Дано дійсні числа $x_1$, $y_1$, $x_2$, $y_2$ ($x_1 \\not = x_2$),\n",
    "які визначають дві точки $A(x_1; y_1)$ і $B(x_2; y_2)$. На осі\n",
    "абсцис знайти таку точку, сума відстаней від якої до точок $A$ і\n",
    "$B$ - найменша для всіх точок цієї осі."
   ],
   "metadata": {
    "collapsed": false,
    "pycharm": {
     "name": "#%% md\n"
    }
   }
  },
  {
   "cell_type": "code",
   "execution_count": 3,
   "outputs": [
    {
     "name": "stdout",
     "output_type": "stream",
     "text": [
      "A(0; 0), B(7; -4)\n",
      "(3.5; 0)\n"
     ]
    }
   ],
   "source": [
    "try:\n",
    "    x1 = int(input(\"Enter the coordinate x for point A:\"))\n",
    "    y1 = int(input(\"Enter the coordinate y for point A:\"))\n",
    "    x2 = int(input(\"Enter the coordinate x for point B:\"))\n",
    "    y2 = int(input(\"Enter the coordinate y for point B:\"))\n",
    "\n",
    "    print(f\"A({x1}; {y1}), B({x2}; {y2})\")\n",
    "    if y1 > 0 > y2 or y1 < 0 < y2:\n",
    "        print(f\"({round((x2 - x1) * (0 - y1) / (y2 - y1) + x1, 1)}; 0)\")\n",
    "    else:\n",
    "        print(f\"({round((x1 + x2) / 2, 1)}; 0)\")\n",
    "except ValueError:\n",
    "    print(\"Input error!\")"
   ],
   "metadata": {
    "collapsed": false,
    "pycharm": {
     "name": "#%%\n"
    }
   }
  },
  {
   "cell_type": "markdown",
   "source": [
    "# Examples\n",
    "\n",
    "### Example 1\n",
    "A(3; 7), B(2; 9)\n",
    "(2.5; 0)\n",
    "### Example 2\n",
    "A(-6; -4), B(9; 2)\n",
    "(4.0; 0)\n",
    "### Example 3\n",
    "A(0; 0), B(7; -4)\n",
    "(3.5; 0)"
   ],
   "metadata": {
    "collapsed": false,
    "pycharm": {
     "name": "#%% md\n"
    }
   }
  }
 ],
 "metadata": {
  "kernelspec": {
   "display_name": "Python 3",
   "language": "python",
   "name": "python3"
  },
  "language_info": {
   "codemirror_mode": {
    "name": "ipython",
    "version": 2
   },
   "file_extension": ".py",
   "mimetype": "text/x-python",
   "name": "python",
   "nbconvert_exporter": "python",
   "pygments_lexer": "ipython2",
   "version": "2.7.6"
  }
 },
 "nbformat": 4,
 "nbformat_minor": 0
}