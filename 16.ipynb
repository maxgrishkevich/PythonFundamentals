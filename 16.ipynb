{
 "cells": [
  {
   "cell_type": "markdown",
   "source": [
    "### Варіант № 3\n",
    "### Завдання № 379(г)\n",
    "Дана дійсна матриця розміру $m\\times n$. Визначити числа\n",
    "$b_1,...,b_m$, які рівні відповідно значенням середніх\n",
    "арифметичних елементів рядків."
   ],
   "metadata": {
    "collapsed": false,
    "pycharm": {
     "name": "#%% md\n"
    }
   }
  },
  {
   "cell_type": "code",
   "execution_count": 2,
   "outputs": [
    {
     "name": "stdout",
     "output_type": "stream",
     "text": [
      "[8.2, 2.5, 7.6, 5.9, 2.9, 7.0, 2.5, 8.8, 8.0, 8.7]\n",
      "[8.6, 4.4, 5.4, 6.1, 5.1, 1.5, 3.7, 3.9, 7.7, 3.5]\n",
      "[6.1, 2.4, 7.6, 1.1, 1.3, 8.8, 0.6, 3.2, 1.1, 3.7]\n",
      "[8.6, 4.3, 4.2, 0.4, 2.6, 9.7, 7.6, 3.1, 2.8, 8.8]\n",
      "[9.2, 9.3, 6.6, 5.1, 0.8, 2.2, 9.8, 0.5, 2.3, 3.0]\n",
      "[5.6, 3.4, 5.9, 5.4, 9.4, 8.2, 8.7, 7.6, 2.5, 4.8]\n",
      "[5.0, 8.1, 5.8, 1.4, 2.1, 2.6, 5.6, 5.7, 4.3, 8.6]\n",
      "[0.8, 2.4, 1.0, 8.5, 1.2, 3.9, 5.1, 2.8, 2.5, 2.3]\n",
      "[5.1, 0.5, 0.2, 7.4, 1.0, 8.4, 8.7, 8.4, 4.4, 3.2]\n",
      "[7.0, 5.3, 7.9, 5.9, 4.4, 5.2, 9.6, 4.9, 1.2, 3.8]\n",
      "Average values of rows:\n",
      " [6.2, 5.0, 3.6, 5.2, 4.9, 6.2, 4.9, 3.0, 4.7, 5.5]\n"
     ]
    }
   ],
   "source": [
    "from random import random\n",
    "\n",
    "try:\n",
    "    m = int(input(\"Enter the number of rows:\"))\n",
    "    n = int(input(\"Enter the number of columns:\"))\n",
    "    matrix = [[round(random() * 10, 1) for j in range(n)]for i in range(m)]\n",
    "    for i in range(m): print(matrix[i])\n",
    "\n",
    "    print(\"Average values of rows:\\n\",\n",
    "          [round(sum(i) / n, 1) for i in matrix])\n",
    "except ValueError:\n",
    "    print(\"Input error!\")"
   ],
   "metadata": {
    "collapsed": false,
    "pycharm": {
     "name": "#%%\n"
    }
   }
  },
  {
   "cell_type": "markdown",
   "source": [
    "# Examples\n",
    "\n",
    "### Example 1\n",
    "[7.4, 0.5, 4.7, 3.8, 0.6]\n",
    "[9.8, 7.1, 5.1, 6.3, 4.4]\n",
    "[0.9, 6.4, 4.4, 5.7, 0.5]\n",
    "[6.7, 4.8, 5.2, 5.6, 8.9]\n",
    "[8.5, 0.5, 6.9, 2.7, 4.3]\n",
    "Average values of rows:\n",
    " [3.4, 6.5, 3.6, 6.2, 4.6]\n",
    "### Example 2\n",
    "[0.4, 2.7, 0.3, 6.7, 0.7]\n",
    "[2.3, 7.2, 2.6, 6.5, 4.8]\n",
    "[0.1, 7.5, 5.5, 9.0, 6.6]\n",
    "[4.9, 3.6, 2.9, 2.1, 0.0]\n",
    "[3.4, 3.6, 9.7, 7.0, 5.8]\n",
    "Average values of rows:\n",
    " [2.2, 4.7, 5.7, 2.7, 5.9]\n",
    "### Example 3\n",
    "[5.7, 2.8, 1.8, 5.2, 7.2]\n",
    "[9.4, 5.9, 4.7, 9.2, 0.4]\n",
    "[6.2, 5.4, 5.7, 3.9, 9.6]\n",
    "[4.2, 8.5, 3.4, 9.0, 9.0]\n",
    "[5.5, 2.3, 4.1, 5.4, 8.2]\n",
    "Average values of rows:\n",
    " [4.5, 5.9, 6.2, 6.8, 5.1]\n"
   ],
   "metadata": {
    "collapsed": false,
    "pycharm": {
     "name": "#%% md\n"
    }
   }
  }
 ],
 "metadata": {
  "kernelspec": {
   "display_name": "Python 3",
   "language": "python",
   "name": "python3"
  },
  "language_info": {
   "codemirror_mode": {
    "name": "ipython",
    "version": 2
   },
   "file_extension": ".py",
   "mimetype": "text/x-python",
   "name": "python",
   "nbconvert_exporter": "python",
   "pygments_lexer": "ipython2",
   "version": "2.7.6"
  }
 },
 "nbformat": 4,
 "nbformat_minor": 0
}