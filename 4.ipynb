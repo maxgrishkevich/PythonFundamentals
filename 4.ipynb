{
 "cells": [
  {
   "cell_type": "markdown",
   "source": [
    "### Варіант № 3\n",
    "### Завдання № 57(а)\n",
    "Дано дійсне число $a$. Визначити $f(a)$, якщо\n",
    "$f(x)=\\begin{cases}x^2 &\\text{при } -2 \\le x<2 \\\\\n",
    "4 &\\text{в іншому випадку } \\end{cases}$"
   ],
   "metadata": {
    "collapsed": false,
    "pycharm": {
     "name": "#%% md\n"
    }
   }
  },
  {
   "cell_type": "code",
   "execution_count": 10,
   "outputs": [
    {
     "name": "stdout",
     "output_type": "stream",
     "text": [
      "f(a) =  0.0\n"
     ]
    }
   ],
   "source": [
    "try:\n",
    "    a = float(input(\"Enter number a: \"))\n",
    "    print(\"f(a) = \", a ** 2) if -2 <= a < 2 else print(\"f(a) = 4\")\n",
    "except ValueError:\n",
    "    print(\"Input error!\")"
   ],
   "metadata": {
    "collapsed": false,
    "pycharm": {
     "name": "#%%\n"
    }
   }
  },
  {
   "cell_type": "markdown",
   "source": [
    "# Examples\n",
    "\n",
    "### Example 1\n",
    "Enter number a: 1.5\n",
    "f(a) =  2.25\n",
    "\n",
    "### Example 2\n",
    "Enter number a: -5\n",
    "f(a) =  4\n",
    "\n",
    "### Example 3\n",
    "Enter number a: 0\n",
    "f(a) =  0.0"
   ],
   "metadata": {
    "collapsed": false,
    "pycharm": {
     "name": "#%% md\n"
    }
   }
  },
  {
   "cell_type": "markdown",
   "source": [
    "### Завдання № 35\n",
    "Дано дійсні числа $x, y, z$. Визначити\n",
    "1. $max(x+y+z, xyz);$\n",
    "2. $min^2(x+y+z/2, xyz)+1$."
   ],
   "metadata": {
    "collapsed": false,
    "pycharm": {
     "name": "#%% md\n"
    }
   }
  },
  {
   "cell_type": "code",
   "execution_count": 13,
   "outputs": [
    {
     "name": "stdout",
     "output_type": "stream",
     "text": [
      "a) -0.0 \n",
      "b) 10.0\n"
     ]
    }
   ],
   "source": [
    "try:\n",
    "    x = float(input(\"Enter x = \"))\n",
    "    y = float(input(\"Enter y = \"))\n",
    "    z = float(input(\"Enter z = \"))\n",
    "    print(\"a)\", max(x+y+z, x*y*z), \"\\nb)\", (min(x+y+z/2, x*y*z))**2+1)\n",
    "except ValueError:\n",
    "    print(\"Input error!\")"
   ],
   "metadata": {
    "collapsed": false,
    "pycharm": {
     "name": "#%%\n"
    }
   }
  },
  {
   "cell_type": "markdown",
   "source": [
    "# Examples\n",
    "\n",
    "### Example 1\n",
    "Enter x = 1\n",
    "Enter y = 1\n",
    "Enter z = 1\n",
    "a) 3.0\n",
    "b) 2.0\n",
    "\n",
    "### Example 2\n",
    "Enter x = 12\n",
    "Enter y = -22\n",
    "Enter z = 0.25\n",
    "a) -9.75\n",
    "b) 4357.0\n",
    "\n",
    "### Example 3\n",
    "Enter x = -4\n",
    "Enter y = 0\n",
    "Enter z = 2\n",
    "a) 0.0\n",
    "b) 10.0"
   ],
   "metadata": {
    "collapsed": false,
    "pycharm": {
     "name": "#%% md\n"
    }
   }
  },
  {
   "cell_type": "markdown",
   "source": [
    "### Завдання № 49\n",
    "Дано дійсне число $h$. Визначити чи має рівняння $ax^2+bx+c=0$ дійсні корені,\n",
    "якщо\n",
    "1. $a=\\sqrt\\frac{|\\sin 8h|+17}{(1-\\sin 4h \\cos(h^2+18))^2}$\n",
    "2. $b=1-\\sqrt\\frac{3}{3+|\\tan ah^2-\\sin ah|}$\n",
    "3. $c=ah^2\\sin bh+bh^3\\cos ah$.\n",
    "\n",
    "Якщо дійсні корені існують, то знайти їх. В протилежному випадку відповіддю\n",
    "має слугувати повідомлення, що дійсних коренів немає."
   ],
   "metadata": {
    "collapsed": false,
    "pycharm": {
     "name": "#%% md\n"
    }
   }
  },
  {
   "cell_type": "code",
   "execution_count": 18,
   "outputs": [
    {
     "name": "stdout",
     "output_type": "stream",
     "text": [
      "Your roots: \n",
      "x1 = 218.06739364436382 \n",
      "x2 = -218.27010959267605\n"
     ]
    }
   ],
   "source": [
    "import math\n",
    "\n",
    "try:\n",
    "    h = float(input(\"Enter number h: \"))\n",
    "    a = math.sqrt((abs(math.sin(8*h))+17)/((1-math.sin(4*h)*math.cos(h**2+18))**2))\n",
    "    b = 1-math.sqrt(3/(3+abs(math.tan(a*h**2)-math.sin(a*h))))\n",
    "    c = a*h**2*math.sin(b*h)+b+h**3+math.cos(a*h)\n",
    "    d = b**2-4*a*c\n",
    "    if d > 0:\n",
    "        print(\"Your roots: \\nx1 =\", (-b+math.sqrt(d))/2*a,\n",
    "              \"\\nx2 =\", (-b-math.sqrt(d))/2*a)\n",
    "    elif d == 0:\n",
    "        print(\"Your root: \\nx =\", -b/(2*a))\n",
    "    else:\n",
    "        print(\"No roots\")\n",
    "except ValueError:\n",
    "    print(\"Input error!\")"
   ],
   "metadata": {
    "collapsed": false,
    "pycharm": {
     "name": "#%%\n"
    }
   }
  },
  {
   "cell_type": "markdown",
   "source": [
    "# Examples\n",
    "\n",
    "### Example 1\n",
    "Enter number h: -5\n",
    "Your roots:\n",
    "x1 = 63.67828606407461\n",
    "x2 = -64.3020493283624\n",
    "\n",
    "### Example 2\n",
    "Enter number h: 0\n",
    "No roots\n",
    "\n",
    "### Example 3\n",
    "Enter number h: -7\n",
    "Your roots:\n",
    "x1 = 218.06739364436382\n",
    "x2 = -218.27010959267605\n"
   ],
   "metadata": {
    "collapsed": false,
    "pycharm": {
     "name": "#%% md\n"
    }
   }
  }
 ],
 "metadata": {
  "kernelspec": {
   "display_name": "Python 3",
   "language": "python",
   "name": "python3"
  },
  "language_info": {
   "codemirror_mode": {
    "name": "ipython",
    "version": 2
   },
   "file_extension": ".py",
   "mimetype": "text/x-python",
   "name": "python",
   "nbconvert_exporter": "python",
   "pygments_lexer": "ipython2",
   "version": "2.7.6"
  }
 },
 "nbformat": 4,
 "nbformat_minor": 0
}