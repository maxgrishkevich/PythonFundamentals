{
 "cells": [
  {
   "cell_type": "markdown",
   "source": [
    "### Варіант № 3\n",
    "### Завдання № 811\n",
    "Дано натуральне число $n$, рівне вираженій у копійках ціні деякого товару,\n",
    "наприклад 317, 5005, 100 і т. д. Виразити ціну у гривнях і копійках, наприклад\n",
    "3 грн. 17 коп., 50 грн. 05 коп., 1 грн. 00 коп. і т. д. (число копійок\n",
    "запусується завжди двома цифрами)"
   ],
   "metadata": {
    "collapsed": false,
    "pycharm": {
     "name": "#%% md\n"
    }
   }
  },
  {
   "cell_type": "code",
   "execution_count": 10,
   "outputs": [
    {
     "name": "stdout",
     "output_type": "stream",
     "text": [
      "3 грн 76 коп\n"
     ]
    }
   ],
   "source": [
    "s = input(\"Введіть число копійок: \")\n",
    "if s.isdigit() and int(s) > 0:\n",
    "    print(s[:-2], \"грн\", s[-2:], \"коп\")\n",
    "else:\n",
    "    print(\"Помилка вводу! Введіть натуральне число!\")"
   ],
   "metadata": {
    "collapsed": false,
    "pycharm": {
     "name": "#%%\n"
    }
   }
  },
  {
   "cell_type": "markdown",
   "source": [
    "### Example 1\n",
    "Введіть число копійок: 4590  \n",
    "45 грн 90 коп\n",
    "\n",
    "### Example 2\n",
    "Введіть число копійок: 0376\n",
    "3 грн 76 коп\n",
    "\n",
    "### Example 3\n",
    "Введіть число копійок: 72550\n",
    "725 грн 50 коп\n"
   ],
   "metadata": {
    "collapsed": false,
    "pycharm": {
     "name": "#%% md\n"
    }
   }
  }
 ],
 "metadata": {
  "kernelspec": {
   "display_name": "Python 3",
   "language": "python",
   "name": "python3"
  },
  "language_info": {
   "codemirror_mode": {
    "name": "ipython",
    "version": 2
   },
   "file_extension": ".py",
   "mimetype": "text/x-python",
   "name": "python",
   "nbconvert_exporter": "python",
   "pygments_lexer": "ipython2",
   "version": "2.7.6"
  }
 },
 "nbformat": 4,
 "nbformat_minor": 0
}