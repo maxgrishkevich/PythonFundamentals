{
 "cells": [
  {
   "cell_type": "markdown",
   "source": [
    "### Варіант № 3\n",
    "### Завдання № 182\n",
    "Дано натуральне число $n$, цілі числа $a_1, ..., a_n$. Найти кількість і суму тих\n",
    "членів данної послідовності, які діляться на 5 і не діляться на 7."
   ],
   "metadata": {
    "collapsed": false,
    "pycharm": {
     "name": "#%% md\n"
    }
   }
  },
  {
   "cell_type": "code",
   "execution_count": 4,
   "outputs": [
    {
     "name": "stdout",
     "output_type": "stream",
     "text": [
      "sum = 100 \n",
      "number =  4\n"
     ]
    }
   ],
   "source": [
    "import random\n",
    "\n",
    "try:\n",
    "    n = [random.randint(0, 100) for i in range(int(input()))]\n",
    "    print(n, \"\\nsum =\", sum(a := [x for x in n if x % 5 == 0 and x % 7 != 0]),\n",
    "          \"\\nnumber = \", len(a))\n",
    "except ValueError:\n",
    "    print(\"Input error!\")"
   ],
   "metadata": {
    "collapsed": false,
    "pycharm": {
     "name": "#%%\n"
    }
   }
  },
  {
   "cell_type": "markdown",
   "source": [
    "# Examples\n",
    "\n",
    "### Example 1\n",
    "5 45 35\n",
    "sum = 50\n",
    "number =  2\n",
    "### Example 2\n",
    "225 7 34 70\n",
    "sum = 225\n",
    "number =  1\n",
    "### Example 3\n",
    "0 67 25 15 5 55\n",
    "sum = 100\n",
    "number =  4"
   ],
   "metadata": {
    "collapsed": false,
    "pycharm": {
     "name": "#%% md\n"
    }
   }
  }
 ],
 "metadata": {
  "kernelspec": {
   "display_name": "Python 3",
   "language": "python",
   "name": "python3"
  },
  "language_info": {
   "codemirror_mode": {
    "name": "ipython",
    "version": 2
   },
   "file_extension": ".py",
   "mimetype": "text/x-python",
   "name": "python",
   "nbconvert_exporter": "python",
   "pygments_lexer": "ipython2",
   "version": "2.7.6"
  }
 },
 "nbformat": 4,
 "nbformat_minor": 0
}