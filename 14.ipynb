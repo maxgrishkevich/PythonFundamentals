{
 "cells": [
  {
   "cell_type": "markdown",
   "source": [
    "### Варіант № 3\n",
    "### Завдання № 393\n",
    "Дано натуральне число $n$, цілочисельна квадратна матриця порядку $n$.\n",
    "Отримати $b_1, ..., b_n$, де $b_i$ - це\n",
    "1. найменше із значень елементів, які знаходяться на початку $i$-го\n",
    "рядка матриці до елемента, який належить головній діагоналі, включно;\n",
    "2. значення першого по порядку позитивного елемента $i$-го рядка\n",
    "(якщо таких елементів немає, то прийняти $b_i = 1$);\n",
    "3. сума елементів, які знаходяться за першим негативним елементом в\n",
    "$i$-му рядку (якщо всі елементи рядка невід$'$ємні, то прийняти\n",
    "$b_i = 100$);\n",
    "4. сума елементів, які передують останьому негативному елементу $i$-го\n",
    "рядка (якщо всі елементи рядка невід$'$ємні, то прийняти $b_i = -1$)."
   ],
   "metadata": {
    "collapsed": false,
    "pycharm": {
     "name": "#%% md\n"
    }
   }
  },
  {
   "cell_type": "code",
   "execution_count": 2,
   "outputs": [
    {
     "name": "stdout",
     "output_type": "stream",
     "text": [
      "[16, -1, 14, 12, -4, 5, 16]\n",
      "[-4, 11, 1, -17, -14, 12, -11]\n",
      "[12, -13, -19, 13, -7, -10, 11]\n",
      "[-14, -12, -11, -9, -14, 10, 15]\n",
      "[4, -18, 19, 10, 19, 13, 17]\n",
      "[-8, 20, 15, -10, 17, -18, 17]\n",
      "[-14, -15, 14, 5, 10, -19, 12]\n",
      "1) [16, -4, -19, -14, -18, -18, -19]\n",
      "2) [16, 11, 12, 10, 4, 20, 14]\n",
      "3) [43, -18, -12, -21, 78, 41, 7]\n",
      "4) [41, -11, -14, -46, 4, 34, -1]\n"
     ]
    }
   ],
   "source": [
    "from itertools import dropwhile\n",
    "from random import randint\n",
    "\n",
    "try:\n",
    "    n = int(input(\"Enter the number of rows:\"))\n",
    "    if n >= 0:\n",
    "        matrix = [[randint(-20, 20) for j in range(n)] for k in range(n)]\n",
    "        for i in range(n): print(matrix[i])\n",
    "\n",
    "        print(\"1)\", [min(matrix[i][:i + 1]) for i in range(n)])\n",
    "        print(\"2)\", [a[0] if len(a := list(filter(lambda x: x > 0, matrix[i]))) != 0\n",
    "                     else 1 for i in range(n)])\n",
    "        print(\"3)\", [100 if (a := sum(list(dropwhile(lambda x: x > 0, matrix[i]))[1:])) == 0\n",
    "                    and matrix[i][-1] > 0 else a for i in range(n)])\n",
    "        print(\"4)\", [-1 if (a := sum(list(dropwhile(lambda x: x > 0, matrix[i][::-1]))[1:])) == 0\n",
    "                           and matrix[i][-1] > 0 else a for i in range(n)])\n",
    "    else:\n",
    "        print(\"Input error!\")\n",
    "except ValueError:\n",
    "    print(\"Input error!\")"
   ],
   "metadata": {
    "collapsed": false,
    "pycharm": {
     "name": "#%%\n"
    }
   }
  },
  {
   "cell_type": "markdown",
   "source": [
    "# Examples\n",
    "\n",
    "### Example 1\n",
    "\n",
    "[-18, 17, -14, -9, -19]\n",
    "[5, -8, 9, 8, -8]\n",
    "[5, 19, -16, -7, -1]\n",
    "[-3, -12, -4, 7, 20]\n",
    "[-20, -19, 6, -4, -17]\n",
    "1) [-18, -8, -16, -12, -20]\n",
    "2) [17, 5, 5, 7, 6]\n",
    "3) [-25, 9, -8, 11, -34]\n",
    "4) [-24, 14, 1, -15, -37]\n",
    "### Example 2\n",
    "[16, -1, 14, 12, -4, 5, 16]\n",
    "[-4, 11, 1, -17, -14, 12, -11]\n",
    "[12, -13, -19, 13, -7, -10, 11]\n",
    "[-14, -12, -11, -9, -14, 10, 15]\n",
    "[4, -18, 19, 10, 19, 13, 17]\n",
    "[-8, 20, 15, -10, 17, -18, 17]\n",
    "[-14, -15, 14, 5, 10, -19, 12]\n",
    "1) [16, -4, -19, -14, -18, -18, -19]\n",
    "2) [16, 11, 12, 10, 4, 20, 14]\n",
    "3) [43, -18, -12, -21, 78, 41, 7]\n",
    "4) [41, -11, -14, -46, 4, 34, -1]\n",
    "### Example 3\n"
   ],
   "metadata": {
    "collapsed": false,
    "pycharm": {
     "name": "#%% md\n"
    }
   }
  }
 ],
 "metadata": {
  "kernelspec": {
   "display_name": "Python 3",
   "language": "python",
   "name": "python3"
  },
  "language_info": {
   "codemirror_mode": {
    "name": "ipython",
    "version": 2
   },
   "file_extension": ".py",
   "mimetype": "text/x-python",
   "name": "python",
   "nbconvert_exporter": "python",
   "pygments_lexer": "ipython2",
   "version": "2.7.6"
  }
 },
 "nbformat": 4,
 "nbformat_minor": 0
}