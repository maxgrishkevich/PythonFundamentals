{
 "cells": [
  {
   "cell_type": "markdown",
   "source": [
    "### Варіант № 3\n",
    "### Завдання № 68\n",
    "Дано натуральне число $n$ ($n \\le 9999$).\n",
    "1. Чи являється це число паліндромом (перевернем) із врахуванням\n",
    "чотирьох цифр, як, наприклад, числа $2222$,\n",
    "$6116$, $0440$ і т. д.?\n",
    "2. Чи правда, що це число містить рівно три однакові цифри,\n",
    "як, наприклад, числа $6676$, $4544$, $0006$ і т. д.?\n",
    "3. Чи правда, що всі чотири цифри числа є різними?"
   ],
   "metadata": {
    "collapsed": false,
    "pycharm": {
     "name": "#%% md\n"
    }
   }
  },
  {
   "cell_type": "code",
   "execution_count": 3,
   "outputs": [
    {
     "name": "stdout",
     "output_type": "stream",
     "text": [
      "1) False\n",
      "2) False\n",
      "3) True\n"
     ]
    }
   ],
   "source": [
    "n = input(\"Enter number n: \")\n",
    "if n.isdigit() and len(n) == 4:\n",
    "    print(\"1)\", n == n[::-1])\n",
    "    print(\"2) True\") if n.count(n[0]) == 3 or n.count(n[1]) == 3 \\\n",
    "        else print(\"2) False\")\n",
    "    print(\"3) True\") if len(set(n)) == len(n) \\\n",
    "        else print(\"3) False\")\n",
    "else:\n",
    "    print(\"Input error!\")"
   ],
   "metadata": {
    "collapsed": false,
    "pycharm": {
     "name": "#%%\n"
    }
   }
  },
  {
   "cell_type": "markdown",
   "source": [
    "# Examples\n",
    "\n",
    "### Example 1\n",
    "Enter number n: 2332\n",
    "1) True\n",
    "2) False\n",
    "3) False\n",
    "### Example 2\n",
    "Enter number n: 1234\n",
    "1) False\n",
    "2) False\n",
    "3) True\n",
    "### Example 3\n",
    "Enter number n: 1121\n",
    "1) False\n",
    "2) True\n",
    "3) False\n"
   ],
   "metadata": {
    "collapsed": false,
    "pycharm": {
     "name": "#%% md\n"
    }
   }
  }
 ],
 "metadata": {
  "kernelspec": {
   "display_name": "Python 3",
   "language": "python",
   "name": "python3"
  },
  "language_info": {
   "codemirror_mode": {
    "name": "ipython",
    "version": 2
   },
   "file_extension": ".py",
   "mimetype": "text/x-python",
   "name": "python",
   "nbconvert_exporter": "python",
   "pygments_lexer": "ipython2",
   "version": "2.7.6"
  }
 },
 "nbformat": 4,
 "nbformat_minor": 0
}