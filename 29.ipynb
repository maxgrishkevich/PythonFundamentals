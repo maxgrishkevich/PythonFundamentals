{
 "cells": [
  {
   "cell_type": "markdown",
   "source": [
    "### Варіант № 3\n",
    "### Завдання № 725(б)\n",
    "Дано дійсне позитивне число $\\varepsilon$. Методом ділення відрізка навпіл знайти\n",
    "наближене значення кореня рівняння $f(x)=0$. Абсолютна похибка знайденого\n",
    "значення не повинна перевищувати $\\varepsilon$.\n",
    "$x^5 - x - 0.2 = 0,$ $[1, 1.1]$."
   ],
   "metadata": {
    "collapsed": false,
    "pycharm": {
     "name": "#%% md\n"
    }
   }
  },
  {
   "cell_type": "code",
   "execution_count": 2,
   "outputs": [
    {
     "name": "stdout",
     "output_type": "stream",
     "text": [
      "1.04476318359375\n"
     ]
    }
   ],
   "source": [
    "def f(x):\n",
    "    return x ** 5 - x - 0.2\n",
    "\n",
    "def root(a, b, eps):\n",
    "    half = (a + b) / 2.0\n",
    "    if abs(f(a) - f(b)) <= eps or abs(f(half)) <= eps:\n",
    "        return (a + b) / 2.0\n",
    "    if f(a) * f(half) <= 0.0:\n",
    "        return root(a, half, eps)\n",
    "    else:\n",
    "        return root(half, b, eps)\n",
    "\n",
    "print(root(1, 1.1, 0.00001));\n"
   ],
   "metadata": {
    "collapsed": false,
    "pycharm": {
     "name": "#%%\n"
    }
   }
  },
  {
   "cell_type": "markdown",
   "source": [
    "# Examples\n",
    "\n",
    "### Example 1\n",
    "1.04476318359375"
   ],
   "metadata": {
    "collapsed": false,
    "pycharm": {
     "name": "#%% md\n"
    }
   }
  }
 ],
 "metadata": {
  "kernelspec": {
   "display_name": "Python 3",
   "language": "python",
   "name": "python3"
  },
  "language_info": {
   "codemirror_mode": {
    "name": "ipython",
    "version": 2
   },
   "file_extension": ".py",
   "mimetype": "text/x-python",
   "name": "python",
   "nbconvert_exporter": "python",
   "pygments_lexer": "ipython2",
   "version": "2.7.6"
  }
 },
 "nbformat": 4,
 "nbformat_minor": 0
}