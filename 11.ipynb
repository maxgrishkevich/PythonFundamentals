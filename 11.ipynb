{
 "cells": [
  {
   "cell_type": "markdown",
   "source": [
    "### Варіант № 3\n",
    "### Завдання № 282(б)\n",
    "Дано дійсні числа $a_1, ..., a_{2n}$. Отримати\n",
    "$a_1, a_{2n}, a_2, a_{2n-1}, a_3, ..., a_n, a_{n+1}$"
   ],
   "metadata": {
    "collapsed": false,
    "pycharm": {
     "name": "#%% md\n"
    }
   }
  },
  {
   "cell_type": "code",
   "execution_count": 1,
   "outputs": [
    {
     "name": "stdout",
     "output_type": "stream",
     "text": [
      "[26, 95, 85, 46, 81, 63, 94, 83, 91, 31] \n",
      " [26, 31, 95, 91, 85, 83, 46, 94, 81, 63]\n"
     ]
    }
   ],
   "source": [
    "import random\n",
    "\n",
    "try:\n",
    "    a = [random.randint(0, 100) for i in range(int(input(\"Enter n:\")))]\n",
    "    print(a, \"\\n\", [a[i // 2] if i % 2 == 0\n",
    "                    else a[len(a) - i // 2 - 1] for i in range(len(a))])\n",
    "except ValueError:\n",
    "    print(\"Input error!\")"
   ],
   "metadata": {
    "collapsed": false,
    "pycharm": {
     "name": "#%%\n"
    }
   }
  },
  {
   "cell_type": "markdown",
   "source": [
    "# Examples\n",
    "\n",
    "### Example 1\n",
    "1 2 3 4 5 6 7 8 9 10 11 12\n",
    "[1, 12, 3, 10, 5, 8, 7, 6, 9, 4, 11, 2]\n",
    "### Example 2\n",
    "5 10 15 20 25 30 35 40\n",
    "[5, 40, 15, 20, 25, 10]\n",
    "### Example 3\n",
    "11 22 33 44 55 66\n",
    "[11, 66, 33, 44, 55, 22]\n"
   ],
   "metadata": {
    "collapsed": false,
    "pycharm": {
     "name": "#%% md\n"
    }
   }
  }
 ],
 "metadata": {
  "kernelspec": {
   "display_name": "Python 3",
   "language": "python",
   "name": "python3"
  },
  "language_info": {
   "codemirror_mode": {
    "name": "ipython",
    "version": 2
   },
   "file_extension": ".py",
   "mimetype": "text/x-python",
   "name": "python",
   "nbconvert_exporter": "python",
   "pygments_lexer": "ipython2",
   "version": "2.7.6"
  }
 },
 "nbformat": 4,
 "nbformat_minor": 0
}