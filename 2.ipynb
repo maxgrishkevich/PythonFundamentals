{
 "cells": [
  {
   "cell_type": "markdown",
   "metadata": {
    "pycharm": {
     "name": "#%% md\n"
    }
   },
   "source": [
    "### Варіант № 3\n",
    "### Завдання № 257\n",
    "Дано рядок $s_1, s_2, ...$. Відомо, що символ $s_1$ відрізняється\n",
    "від знаку оклику і що серед $s_1, s_2, ...$ є принаймні один знак оклику. \n",
    "Нехай $s_1, ..., s_n$ - символи данної послідовності, які передують першому знаку оклику ($n$ наперед невідоме).\n",
    "1. Визначити кількість пробілів серед $s_1, ..., s_n$.\n",
    "2. Дізнатись, чи входить у послідовність $s_1, ..., s_n$ буква $ю$.\n",
    "3. Дізнатись, чи є правдою, що серед $s_1, ..., s_n$ наявні всі букви, що входять до слова $шина$.\n",
    "4. Дізнатись, чи є серед $s_1, ..., s_n$ пара сусідніх букв $но$ або $он$.\n",
    "5. Дізнатись, чи є серед $s_1, ..., s_n$ пара сусідніх однакових символів.\n",
    "6. Дізнатись, чи є правдою, что існують такі натуральні $i$ та $j$, що $1<i<j<n$ і що $s_i$ співпадає з $s_{i+1}$, а $s_j$ - з $s_{j+1}$."
   ]
  },
  {
   "cell_type": "code",
   "execution_count": null,
   "metadata": {
    "pycharm": {
     "name": "#%%\n"
    }
   },
   "outputs": [],
   "source": [
    "s = input(\"Enter your string: \")\n",
    "\n",
    "if s[0] == '!':\n",
    "    print(\"Input error!\")\n",
    "    exit()\n",
    "\n",
    "s = s.partition('!')[0]\n",
    "\n",
    "print(\"1)\", s.count(\" \"))\n",
    "\n",
    "print(\"2)\", 'ю' in s)\n",
    "\n",
    "print(\"3)\", 'ш' in s and 'и' in s and 'н' in s and 'а' in s)\n",
    "\n",
    "print(\"4)\", (s.__contains__('но') or s.__contains__('он')))\n",
    "\n",
    "\n",
    "for i in range(len(s)):\n",
    "    if i == len(s)-1:\n",
    "        print(\"5) False\")\n",
    "        break\n",
    "    elif s[i] == s[i+1]:\n",
    "        print(\"5) True\")\n",
    "        break\n",
    "\n",
    "for i in range(1, len(s)-1):\n",
    "    if i == len(s)-2:\n",
    "        print(\"6) False\")\n",
    "        break\n",
    "    for j in range(i+1, len(s)-1):\n",
    "        if 1 < i < j < len(s) and s[i] == s[i+1] and s[j] == s[j+1]:\n",
    "            print(\"6) True\")\n",
    "            s = \"stop\"\n",
    "            break\n",
    "    if s == \"stop\":\n",
    "        break"
   ]
  },
  {
   "cell_type": "markdown",
   "metadata": {
    "pycharm": {
     "name": "#%% md\n"
    }
   },
   "source": [
    "### Example 1\n",
    "Enter your string: Google LLC — американська публічна транснаціональна\\ корпорація,! яку заснували 1998 року! аспіранти Стенфордського університету\\ Ларрі Пейдж і Сергій Брін!\\\n",
    "1) 6\\\n",
    "2) False\\\n",
    "3) False\\\n",
    "4) True\\\n",
    "5) True\\\n",
    "6) False\n",
    "\n",
    "### Example 2\n",
    "Enter your string: happy bithday!\\\n",
    "1) 1\\\n",
    "2) False\\\n",
    "3) False\\\n",
    "4) False\\\n",
    "5) True\\\n",
    "6) False\n",
    "\n",
    "### Example 3\n",
    "Enter your string: Parker! Go to home!\\\n",
    "1) 0\\\n",
    "2) False\\\n",
    "3) False\\\n",
    "4) False\\\n",
    "5) False\\\n",
    "6) False"
   ]
  },
  {
   "cell_type": "markdown",
   "metadata": {
    "pycharm": {
     "name": "#%% md\n"
    }
   },
   "source": [
    "### Завдання № 262\n",
    "Дано рядок $s_1, ..., s_n$. Визначити число входжень у послідовність $s_1, ..., s_n$ групи букв:\n",
    "1. $abc$\n",
    "2. $aba$"
   ]
  },
  {
   "cell_type": "code",
   "execution_count": null,
   "metadata": {
    "pycharm": {
     "name": "#%%\n"
    }
   },
   "outputs": [],
   "source": [
    "s = input(\"Enter your string: \")\n",
    "print(\"1)\", s.count('abc'), \"\\n2)\", s.count('aba'))"
   ]
  },
  {
   "cell_type": "markdown",
   "metadata": {
    "pycharm": {
     "name": "#%% md\n"
    }
   },
   "source": [
    "### Example 1\n",
    "Enter your string: oernernvoabaeoriernoabcoorabaoirnfabc\\\n",
    "1) 2\\\n",
    "2) 2\n",
    "\n",
    "### Example 2\n",
    "Enter your string: eurejnabceoriabaoijrabarjaba\\\n",
    "1) 1\\ \n",
    "2) 3\n",
    "\n",
    "### Example 3\n",
    "Enter your string: eruheubokopwneonrfopekffjperf\\\n",
    "1) 0\\ \n",
    "2) 0"
   ]
  },
  {
   "cell_type": "markdown",
   "metadata": {
    "pycharm": {
     "name": "#%% md\n"
    }
   },
   "source": [
    "### Завдання № 263\n",
    "Дано рядок $s_1, ..., s_n$. Замінити у послідовності $s_1, ..., s_n$ кожну групу букв $child$ групою букв $children$."
   ]
  },
  {
   "cell_type": "code",
   "execution_count": null,
   "metadata": {
    "pycharm": {
     "name": "#%%\n"
    }
   },
   "outputs": [],
   "source": [
    "s = input(\"Enter your string: \")\n",
    "print(s.replace(\"child\", \"children\"))"
   ]
  },
  {
   "cell_type": "markdown",
   "metadata": {
    "pycharm": {
     "name": "#%% md\n"
    }
   },
   "source": [
    "### Example 1\n",
    "Enter your string: A lot of child like ice-cream.\\ \n",
    "Also a lot of child like milk.\\\n",
    "A lot of children like ice-cream. Also a lot of children like milk.\n",
    "\n",
    "### Example 2\n",
    "Enter your string: Our teacher likes play with child\\\n",
    "Our teacher likes play with children\n",
    "\n",
    "### Example 3\n",
    "Enter your string: Good morning, child!\\\n",
    "Good morning, children!"
   ]
  },
  {
   "cell_type": "markdown",
   "metadata": {
    "pycharm": {
     "name": "#%% md\n"
    }
   },
   "source": [
    "### Завдання № 255\n",
    "Дано рядок $s_1, ..., s_n$. Отримати перше натуральне $i$, для якого кожен із символів $s_i$ та $s_{i+1}$ співпадає із буквою $a$. Якщо такої пари символів у послідовності $s_1, ..., s_n$ немає, то відповіддю має бути число 0."
   ]
  },
  {
   "cell_type": "code",
   "execution_count": null,
   "metadata": {
    "pycharm": {
     "name": "#%%\n"
    }
   },
   "outputs": [],
   "source": [
    "s = input(\"Enter your string: \")\n",
    "index = s.find('aa')\n",
    "if index == -1:\n",
    "    print(\"0\")\n",
    "else:\n",
    "    print(index+1)"
   ]
  },
  {
   "cell_type": "markdown",
   "metadata": {
    "pycharm": {
     "name": "#%% md\n"
    }
   },
   "source": [
    "### Example 1\n",
    "Enter your string: oernwmfkwnwpomekvnpfekvk\\\n",
    "0\n",
    "\n",
    "### Example 2\n",
    "Enter your string: opoweaapfwmopeaapeofapaa\\\n",
    "6\n",
    "\n",
    "### Example 3\n",
    "Enter your string: aawpmpmrpf\\\n",
    "1"
   ]
  },
  {
   "cell_type": "code",
   "execution_count": null,
   "metadata": {
    "pycharm": {
     "name": "#%%\n"
    }
   },
   "outputs": [],
   "source": []
  }
 ],
 "metadata": {
  "kernelspec": {
   "display_name": "Python 3",
   "language": "python",
   "name": "python3"
  },
  "language_info": {
   "codemirror_mode": {
    "name": "ipython",
    "version": 3
   },
   "file_extension": ".py",
   "mimetype": "text/x-python",
   "name": "python",
   "nbconvert_exporter": "python",
   "pygments_lexer": "ipython3",
   "version": "3.9.1"
  }
 },
 "nbformat": 4,
 "nbformat_minor": 2
}